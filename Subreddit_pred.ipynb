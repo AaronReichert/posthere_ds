{
 "cells": [
  {
   "cell_type": "code",
   "execution_count": 4,
   "metadata": {},
   "outputs": [],
   "source": [
    "# import tensorflow as tf\n",
    "# print(\"Num GPUs Available: \", len(tf.config.experimental.list_physical_devices('GPU')))"
   ]
  },
  {
   "cell_type": "code",
   "execution_count": 5,
   "metadata": {},
   "outputs": [],
   "source": [
    "# tf.debugging.set_log_device_placement(True)\n",
    "\n",
    "# # Create some tensors\n",
    "# a = tf.constant([[1.0, 2.0, 3.0], [4.0, 5.0, 6.0]])\n",
    "# b = tf.constant([[1.0, 2.0], [3.0, 4.0], [5.0, 6.0]])\n",
    "# c = tf.matmul(a, b)\n",
    "\n",
    "# print(c)"
   ]
  },
  {
   "cell_type": "code",
   "execution_count": 6,
   "metadata": {},
   "outputs": [
    {
     "data": {
      "text/html": [
       "<div>\n",
       "<style scoped>\n",
       "    .dataframe tbody tr th:only-of-type {\n",
       "        vertical-align: middle;\n",
       "    }\n",
       "\n",
       "    .dataframe tbody tr th {\n",
       "        vertical-align: top;\n",
       "    }\n",
       "\n",
       "    .dataframe thead th {\n",
       "        text-align: right;\n",
       "    }\n",
       "</style>\n",
       "<table border=\"1\" class=\"dataframe\">\n",
       "  <thead>\n",
       "    <tr style=\"text-align: right;\">\n",
       "      <th></th>\n",
       "      <th>title</th>\n",
       "      <th>text</th>\n",
       "      <th>up_votes</th>\n",
       "      <th>subreddit</th>\n",
       "    </tr>\n",
       "  </thead>\n",
       "  <tbody>\n",
       "    <tr>\n",
       "      <th>0</th>\n",
       "      <td>People who haven't pooped in 2019 yet, why are...</td>\n",
       "      <td>NaN</td>\n",
       "      <td>221854</td>\n",
       "      <td>r/AskReddit</td>\n",
       "    </tr>\n",
       "    <tr>\n",
       "      <th>1</th>\n",
       "      <td>Would you watch a show where a billionaire CEO...</td>\n",
       "      <td>NaN</td>\n",
       "      <td>197524</td>\n",
       "      <td>r/AskReddit</td>\n",
       "    </tr>\n",
       "    <tr>\n",
       "      <th>2</th>\n",
       "      <td>How would you feel about a feature where if so...</td>\n",
       "      <td>NaN</td>\n",
       "      <td>186368</td>\n",
       "      <td>r/AskReddit</td>\n",
       "    </tr>\n",
       "    <tr>\n",
       "      <th>3</th>\n",
       "      <td>Stan Lee has passed away at 95 years old</td>\n",
       "      <td>As many of you know today is day that many of ...</td>\n",
       "      <td>175339</td>\n",
       "      <td>r/AskReddit</td>\n",
       "    </tr>\n",
       "    <tr>\n",
       "      <th>4</th>\n",
       "      <td>Reddit, how would you feel about a law that ba...</td>\n",
       "      <td>NaN</td>\n",
       "      <td>160311</td>\n",
       "      <td>r/AskReddit</td>\n",
       "    </tr>\n",
       "    <tr>\n",
       "      <th>...</th>\n",
       "      <td>...</td>\n",
       "      <td>...</td>\n",
       "      <td>...</td>\n",
       "      <td>...</td>\n",
       "    </tr>\n",
       "    <tr>\n",
       "      <th>18572</th>\n",
       "      <td>Pokemon Go Update [2016-08-08]</td>\n",
       "      <td># [A Note From The Developers](http://pokemong...</td>\n",
       "      <td>7189</td>\n",
       "      <td>r/pokemongo</td>\n",
       "    </tr>\n",
       "    <tr>\n",
       "      <th>18573</th>\n",
       "      <td>It boggles my mind that there is no way to sig...</td>\n",
       "      <td>It seems to me like a really obvious and easy ...</td>\n",
       "      <td>7168</td>\n",
       "      <td>r/pokemongo</td>\n",
       "    </tr>\n",
       "    <tr>\n",
       "      <th>18574</th>\n",
       "      <td>Is it really a coincidence that both Niantic a...</td>\n",
       "      <td>NaN</td>\n",
       "      <td>7117</td>\n",
       "      <td>r/pokemongo</td>\n",
       "    </tr>\n",
       "    <tr>\n",
       "      <th>18575</th>\n",
       "      <td>The three footstep glitch has turned the game ...</td>\n",
       "      <td>The servers are slowly getting better. Hopeful...</td>\n",
       "      <td>7108</td>\n",
       "      <td>r/pokemongo</td>\n",
       "    </tr>\n",
       "    <tr>\n",
       "      <th>18576</th>\n",
       "      <td>I feel like transfering second and third stage...</td>\n",
       "      <td>Not anything outrageous. Say a basic pokemon g...</td>\n",
       "      <td>7097</td>\n",
       "      <td>r/pokemongo</td>\n",
       "    </tr>\n",
       "  </tbody>\n",
       "</table>\n",
       "<p>18577 rows × 4 columns</p>\n",
       "</div>"
      ],
      "text/plain": [
       "                                                   title  \\\n",
       "0      People who haven't pooped in 2019 yet, why are...   \n",
       "1      Would you watch a show where a billionaire CEO...   \n",
       "2      How would you feel about a feature where if so...   \n",
       "3               Stan Lee has passed away at 95 years old   \n",
       "4      Reddit, how would you feel about a law that ba...   \n",
       "...                                                  ...   \n",
       "18572                     Pokemon Go Update [2016-08-08]   \n",
       "18573  It boggles my mind that there is no way to sig...   \n",
       "18574  Is it really a coincidence that both Niantic a...   \n",
       "18575  The three footstep glitch has turned the game ...   \n",
       "18576  I feel like transfering second and third stage...   \n",
       "\n",
       "                                                    text  up_votes  \\\n",
       "0                                                    NaN    221854   \n",
       "1                                                    NaN    197524   \n",
       "2                                                    NaN    186368   \n",
       "3      As many of you know today is day that many of ...    175339   \n",
       "4                                                    NaN    160311   \n",
       "...                                                  ...       ...   \n",
       "18572  # [A Note From The Developers](http://pokemong...      7189   \n",
       "18573  It seems to me like a really obvious and easy ...      7168   \n",
       "18574                                                NaN      7117   \n",
       "18575  The servers are slowly getting better. Hopeful...      7108   \n",
       "18576  Not anything outrageous. Say a basic pokemon g...      7097   \n",
       "\n",
       "         subreddit  \n",
       "0      r/AskReddit  \n",
       "1      r/AskReddit  \n",
       "2      r/AskReddit  \n",
       "3      r/AskReddit  \n",
       "4      r/AskReddit  \n",
       "...            ...  \n",
       "18572  r/pokemongo  \n",
       "18573  r/pokemongo  \n",
       "18574  r/pokemongo  \n",
       "18575  r/pokemongo  \n",
       "18576  r/pokemongo  \n",
       "\n",
       "[18577 rows x 4 columns]"
      ]
     },
     "execution_count": 6,
     "metadata": {},
     "output_type": "execute_result"
    }
   ],
   "source": [
    "import pandas as pd\n",
    "import numpy as np\n",
    "import re\n",
    "\n",
    "filepath = 'reddit_posts.xlsx'\n",
    "subreddit_df = pd.read_excel(filepath)\n",
    "subreddit_df = subreddit_df.drop(['Unnamed: 0'], axis=1)\n",
    "subreddit_df"
   ]
  },
  {
   "cell_type": "code",
   "execution_count": 7,
   "metadata": {},
   "outputs": [],
   "source": [
    "subreddit_df = subreddit_df[['subreddit', 'text']]"
   ]
  },
  {
   "cell_type": "code",
   "execution_count": 8,
   "metadata": {
    "scrolled": true
   },
   "outputs": [
    {
     "data": {
      "text/html": [
       "<div>\n",
       "<style scoped>\n",
       "    .dataframe tbody tr th:only-of-type {\n",
       "        vertical-align: middle;\n",
       "    }\n",
       "\n",
       "    .dataframe tbody tr th {\n",
       "        vertical-align: top;\n",
       "    }\n",
       "\n",
       "    .dataframe thead th {\n",
       "        text-align: right;\n",
       "    }\n",
       "</style>\n",
       "<table border=\"1\" class=\"dataframe\">\n",
       "  <thead>\n",
       "    <tr style=\"text-align: right;\">\n",
       "      <th></th>\n",
       "      <th>Subreddit</th>\n",
       "      <th>Post</th>\n",
       "    </tr>\n",
       "  </thead>\n",
       "  <tbody>\n",
       "    <tr>\n",
       "      <th>0</th>\n",
       "      <td>r/AskReddit</td>\n",
       "      <td>NaN</td>\n",
       "    </tr>\n",
       "    <tr>\n",
       "      <th>1</th>\n",
       "      <td>r/AskReddit</td>\n",
       "      <td>NaN</td>\n",
       "    </tr>\n",
       "    <tr>\n",
       "      <th>2</th>\n",
       "      <td>r/AskReddit</td>\n",
       "      <td>NaN</td>\n",
       "    </tr>\n",
       "    <tr>\n",
       "      <th>3</th>\n",
       "      <td>r/AskReddit</td>\n",
       "      <td>As many of you know today is day that many of ...</td>\n",
       "    </tr>\n",
       "    <tr>\n",
       "      <th>4</th>\n",
       "      <td>r/AskReddit</td>\n",
       "      <td>NaN</td>\n",
       "    </tr>\n",
       "    <tr>\n",
       "      <th>...</th>\n",
       "      <td>...</td>\n",
       "      <td>...</td>\n",
       "    </tr>\n",
       "    <tr>\n",
       "      <th>18572</th>\n",
       "      <td>r/pokemongo</td>\n",
       "      <td># [A Note From The Developers](http://pokemong...</td>\n",
       "    </tr>\n",
       "    <tr>\n",
       "      <th>18573</th>\n",
       "      <td>r/pokemongo</td>\n",
       "      <td>It seems to me like a really obvious and easy ...</td>\n",
       "    </tr>\n",
       "    <tr>\n",
       "      <th>18574</th>\n",
       "      <td>r/pokemongo</td>\n",
       "      <td>NaN</td>\n",
       "    </tr>\n",
       "    <tr>\n",
       "      <th>18575</th>\n",
       "      <td>r/pokemongo</td>\n",
       "      <td>The servers are slowly getting better. Hopeful...</td>\n",
       "    </tr>\n",
       "    <tr>\n",
       "      <th>18576</th>\n",
       "      <td>r/pokemongo</td>\n",
       "      <td>Not anything outrageous. Say a basic pokemon g...</td>\n",
       "    </tr>\n",
       "  </tbody>\n",
       "</table>\n",
       "<p>18577 rows × 2 columns</p>\n",
       "</div>"
      ],
      "text/plain": [
       "         Subreddit                                               Post\n",
       "0      r/AskReddit                                                NaN\n",
       "1      r/AskReddit                                                NaN\n",
       "2      r/AskReddit                                                NaN\n",
       "3      r/AskReddit  As many of you know today is day that many of ...\n",
       "4      r/AskReddit                                                NaN\n",
       "...            ...                                                ...\n",
       "18572  r/pokemongo  # [A Note From The Developers](http://pokemong...\n",
       "18573  r/pokemongo  It seems to me like a really obvious and easy ...\n",
       "18574  r/pokemongo                                                NaN\n",
       "18575  r/pokemongo  The servers are slowly getting better. Hopeful...\n",
       "18576  r/pokemongo  Not anything outrageous. Say a basic pokemon g...\n",
       "\n",
       "[18577 rows x 2 columns]"
      ]
     },
     "execution_count": 8,
     "metadata": {},
     "output_type": "execute_result"
    }
   ],
   "source": [
    "subreddit_df = subreddit_df.rename(columns={\"subreddit\": \"Subreddit\",\"text\": \"Post\"})\n",
    "nan_value = float(\"NaN\")\n",
    "subreddit_df.replace(\" \", nan_value, inplace=True)\n",
    "subreddit_df.reset_index(drop=True)"
   ]
  },
  {
   "cell_type": "code",
   "execution_count": 9,
   "metadata": {},
   "outputs": [
    {
     "data": {
      "text/plain": [
       "(18577, 2)"
      ]
     },
     "execution_count": 9,
     "metadata": {},
     "output_type": "execute_result"
    }
   ],
   "source": [
    "subreddit_df.shape"
   ]
  },
  {
   "cell_type": "code",
   "execution_count": 10,
   "metadata": {},
   "outputs": [
    {
     "data": {
      "text/plain": [
       "Subreddit       0\n",
       "Post         4405\n",
       "dtype: int64"
      ]
     },
     "execution_count": 10,
     "metadata": {},
     "output_type": "execute_result"
    }
   ],
   "source": [
    "subreddit_df.isna().sum()"
   ]
  },
  {
   "cell_type": "code",
   "execution_count": 11,
   "metadata": {},
   "outputs": [],
   "source": [
    "subreddit_df.dropna(inplace=True)"
   ]
  },
  {
   "cell_type": "code",
   "execution_count": 12,
   "metadata": {},
   "outputs": [
    {
     "data": {
      "text/html": [
       "<div>\n",
       "<style scoped>\n",
       "    .dataframe tbody tr th:only-of-type {\n",
       "        vertical-align: middle;\n",
       "    }\n",
       "\n",
       "    .dataframe tbody tr th {\n",
       "        vertical-align: top;\n",
       "    }\n",
       "\n",
       "    .dataframe thead th {\n",
       "        text-align: right;\n",
       "    }\n",
       "</style>\n",
       "<table border=\"1\" class=\"dataframe\">\n",
       "  <thead>\n",
       "    <tr style=\"text-align: right;\">\n",
       "      <th></th>\n",
       "      <th>Subreddit</th>\n",
       "      <th>Post</th>\n",
       "    </tr>\n",
       "  </thead>\n",
       "  <tbody>\n",
       "    <tr>\n",
       "      <th>0</th>\n",
       "      <td>r/AskReddit</td>\n",
       "      <td>As many of you know today is day that many of ...</td>\n",
       "    </tr>\n",
       "    <tr>\n",
       "      <th>1</th>\n",
       "      <td>r/AskReddit</td>\n",
       "      <td>We have lost one of the greatest minds in hist...</td>\n",
       "    </tr>\n",
       "    <tr>\n",
       "      <th>2</th>\n",
       "      <td>r/AskReddit</td>\n",
       "      <td>With the news today of the passing of the amaz...</td>\n",
       "    </tr>\n",
       "    <tr>\n",
       "      <th>3</th>\n",
       "      <td>r/AskReddit</td>\n",
       "      <td>As the gap of the political divide in our worl...</td>\n",
       "    </tr>\n",
       "    <tr>\n",
       "      <th>4</th>\n",
       "      <td>r/AskReddit</td>\n",
       "      <td>**Update 3:19PM EST:** Updated links below\\n\\n...</td>\n",
       "    </tr>\n",
       "    <tr>\n",
       "      <th>...</th>\n",
       "      <td>...</td>\n",
       "      <td>...</td>\n",
       "    </tr>\n",
       "    <tr>\n",
       "      <th>14167</th>\n",
       "      <td>r/pokemongo</td>\n",
       "      <td>*UPDATE 2: The name of the Gym has been change...</td>\n",
       "    </tr>\n",
       "    <tr>\n",
       "      <th>14168</th>\n",
       "      <td>r/pokemongo</td>\n",
       "      <td># [A Note From The Developers](http://pokemong...</td>\n",
       "    </tr>\n",
       "    <tr>\n",
       "      <th>14169</th>\n",
       "      <td>r/pokemongo</td>\n",
       "      <td>It seems to me like a really obvious and easy ...</td>\n",
       "    </tr>\n",
       "    <tr>\n",
       "      <th>14170</th>\n",
       "      <td>r/pokemongo</td>\n",
       "      <td>The servers are slowly getting better. Hopeful...</td>\n",
       "    </tr>\n",
       "    <tr>\n",
       "      <th>14171</th>\n",
       "      <td>r/pokemongo</td>\n",
       "      <td>Not anything outrageous. Say a basic pokemon g...</td>\n",
       "    </tr>\n",
       "  </tbody>\n",
       "</table>\n",
       "<p>14172 rows × 2 columns</p>\n",
       "</div>"
      ],
      "text/plain": [
       "         Subreddit                                               Post\n",
       "0      r/AskReddit  As many of you know today is day that many of ...\n",
       "1      r/AskReddit  We have lost one of the greatest minds in hist...\n",
       "2      r/AskReddit  With the news today of the passing of the amaz...\n",
       "3      r/AskReddit  As the gap of the political divide in our worl...\n",
       "4      r/AskReddit  **Update 3:19PM EST:** Updated links below\\n\\n...\n",
       "...            ...                                                ...\n",
       "14167  r/pokemongo  *UPDATE 2: The name of the Gym has been change...\n",
       "14168  r/pokemongo  # [A Note From The Developers](http://pokemong...\n",
       "14169  r/pokemongo  It seems to me like a really obvious and easy ...\n",
       "14170  r/pokemongo  The servers are slowly getting better. Hopeful...\n",
       "14171  r/pokemongo  Not anything outrageous. Say a basic pokemon g...\n",
       "\n",
       "[14172 rows x 2 columns]"
      ]
     },
     "execution_count": 12,
     "metadata": {},
     "output_type": "execute_result"
    }
   ],
   "source": [
    "subreddit_df.reset_index(drop=True)"
   ]
  },
  {
   "cell_type": "code",
   "execution_count": 13,
   "metadata": {},
   "outputs": [
    {
     "data": {
      "text/plain": [
       "(14172, 2)"
      ]
     },
     "execution_count": 13,
     "metadata": {},
     "output_type": "execute_result"
    }
   ],
   "source": [
    "subreddit_df.shape"
   ]
  },
  {
   "cell_type": "code",
   "execution_count": 64,
   "metadata": {},
   "outputs": [],
   "source": [
    "import seaborn as sns\n",
    "import matplotlib.pyplot as plt\n",
    "from sklearn.feature_extraction.text import CountVectorizer, TfidfVectorizer\n",
    "import spacy\n",
    "nlp = spacy.load('en_core_web_sm')"
   ]
  },
  {
   "cell_type": "code",
   "execution_count": 65,
   "metadata": {},
   "outputs": [
    {
     "data": {
      "text/html": [
       "<div>\n",
       "<style scoped>\n",
       "    .dataframe tbody tr th:only-of-type {\n",
       "        vertical-align: middle;\n",
       "    }\n",
       "\n",
       "    .dataframe tbody tr th {\n",
       "        vertical-align: top;\n",
       "    }\n",
       "\n",
       "    .dataframe thead th {\n",
       "        text-align: right;\n",
       "    }\n",
       "</style>\n",
       "<table border=\"1\" class=\"dataframe\">\n",
       "  <thead>\n",
       "    <tr style=\"text-align: right;\">\n",
       "      <th></th>\n",
       "      <th>Subreddit</th>\n",
       "      <th>Post</th>\n",
       "    </tr>\n",
       "  </thead>\n",
       "  <tbody>\n",
       "    <tr>\n",
       "      <th>3</th>\n",
       "      <td>r/AskReddit</td>\n",
       "      <td>As many of you know today is day that many of ...</td>\n",
       "    </tr>\n",
       "    <tr>\n",
       "      <th>21</th>\n",
       "      <td>r/AskReddit</td>\n",
       "      <td>We have lost one of the greatest minds in hist...</td>\n",
       "    </tr>\n",
       "    <tr>\n",
       "      <th>34</th>\n",
       "      <td>r/AskReddit</td>\n",
       "      <td>With the news today of the passing of the amaz...</td>\n",
       "    </tr>\n",
       "    <tr>\n",
       "      <th>48</th>\n",
       "      <td>r/AskReddit</td>\n",
       "      <td>As the gap of the political divide in our worl...</td>\n",
       "    </tr>\n",
       "    <tr>\n",
       "      <th>55</th>\n",
       "      <td>r/AskReddit</td>\n",
       "      <td>Update 3 19PM EST    Updated links below    ...</td>\n",
       "    </tr>\n",
       "  </tbody>\n",
       "</table>\n",
       "</div>"
      ],
      "text/plain": [
       "      Subreddit                                               Post\n",
       "3   r/AskReddit  As many of you know today is day that many of ...\n",
       "21  r/AskReddit  We have lost one of the greatest minds in hist...\n",
       "34  r/AskReddit  With the news today of the passing of the amaz...\n",
       "48  r/AskReddit  As the gap of the political divide in our worl...\n",
       "55  r/AskReddit    Update 3 19PM EST    Updated links below    ..."
      ]
     },
     "execution_count": 65,
     "metadata": {},
     "output_type": "execute_result"
    }
   ],
   "source": [
    "subreddit_df['Post'] = subreddit_df['Post'].apply(lambda x: re.sub('[^a-z A-Z 0-9]',' ', x))\n",
    "# subreddit_df['Title'] = subreddit_df['Title'].apply(lambda x: re.sub('[^a-zA-Z0-9]',' ', x))\n",
    "subreddit_df.head()\n",
    "# , x.replace('/', '').replace('\\\\n\\\\n\\\\n\\\\n', '')"
   ]
  },
  {
   "cell_type": "code",
   "execution_count": 66,
   "metadata": {},
   "outputs": [],
   "source": [
    "# stop_words = nlp.Defaults.stop_words\n",
    "# def get_lemmas(text):\n",
    "\n",
    "#     lemmas = []\n",
    "    \n",
    "#     doc = nlp(text)\n",
    "    \n",
    "#     for token in doc: \n",
    "#         if ((token.text not in stop_words) and (token.is_punct == False)) and (token.pos_ != 'PRON'):\n",
    "#             lemmas.append(token.lemma_)\n",
    "    \n",
    "#     return lemmas"
   ]
  },
  {
   "cell_type": "code",
   "execution_count": 68,
   "metadata": {},
   "outputs": [
    {
     "name": "stderr",
     "output_type": "stream",
     "text": [
      "[nltk_data] Downloading package stopwords to\n",
      "[nltk_data]     C:\\Users\\Khisl\\AppData\\Roaming\\nltk_data...\n",
      "[nltk_data]   Package stopwords is already up-to-date!\n"
     ]
    },
    {
     "data": {
      "text/plain": [
       "3     As many know today day many us dreaded Stan Le...\n",
       "21    We lost one greatest minds history today Profe...\n",
       "34    With news today passing amazing Anthony Bourda...\n",
       "48    As gap political divide world grows deeper wou...\n",
       "55    Update 3 19PM EST Updated links Update 2 03PM ...\n",
       "Name: Post_Clean, dtype: object"
      ]
     },
     "execution_count": 68,
     "metadata": {},
     "output_type": "execute_result"
    }
   ],
   "source": [
    "import nltk.corpus\n",
    "nltk.download('stopwords')\n",
    "from nltk.corpus import stopwords\n",
    "stop = stopwords.words('english')\n",
    "subreddit_df['Post_Clean'] = subreddit_df['Post'].apply(lambda x: ' '.join([word for word in x.split() if word not in (stop)]))\n",
    "subreddit_df['Post_Clean'].head()"
   ]
  },
  {
   "cell_type": "code",
   "execution_count": 71,
   "metadata": {},
   "outputs": [
    {
     "data": {
      "text/html": [
       "<div>\n",
       "<style scoped>\n",
       "    .dataframe tbody tr th:only-of-type {\n",
       "        vertical-align: middle;\n",
       "    }\n",
       "\n",
       "    .dataframe tbody tr th {\n",
       "        vertical-align: top;\n",
       "    }\n",
       "\n",
       "    .dataframe thead th {\n",
       "        text-align: right;\n",
       "    }\n",
       "</style>\n",
       "<table border=\"1\" class=\"dataframe\">\n",
       "  <thead>\n",
       "    <tr style=\"text-align: right;\">\n",
       "      <th></th>\n",
       "      <th>Subreddit</th>\n",
       "      <th>Post</th>\n",
       "      <th>Post_Clean</th>\n",
       "    </tr>\n",
       "  </thead>\n",
       "  <tbody>\n",
       "    <tr>\n",
       "      <th>3</th>\n",
       "      <td>r/AskReddit</td>\n",
       "      <td>As many of you know today is day that many of ...</td>\n",
       "      <td>As many know today day many us dreaded Stan Le...</td>\n",
       "    </tr>\n",
       "    <tr>\n",
       "      <th>21</th>\n",
       "      <td>r/AskReddit</td>\n",
       "      <td>We have lost one of the greatest minds in hist...</td>\n",
       "      <td>We lost one greatest minds history today Profe...</td>\n",
       "    </tr>\n",
       "    <tr>\n",
       "      <th>34</th>\n",
       "      <td>r/AskReddit</td>\n",
       "      <td>With the news today of the passing of the amaz...</td>\n",
       "      <td>With news today passing amazing Anthony Bourda...</td>\n",
       "    </tr>\n",
       "    <tr>\n",
       "      <th>48</th>\n",
       "      <td>r/AskReddit</td>\n",
       "      <td>As the gap of the political divide in our worl...</td>\n",
       "      <td>As gap political divide world grows deeper wou...</td>\n",
       "    </tr>\n",
       "    <tr>\n",
       "      <th>55</th>\n",
       "      <td>r/AskReddit</td>\n",
       "      <td>Update 3 19PM EST    Updated links below    ...</td>\n",
       "      <td>Update 3 19PM EST Updated links Update 2 03PM ...</td>\n",
       "    </tr>\n",
       "  </tbody>\n",
       "</table>\n",
       "</div>"
      ],
      "text/plain": [
       "      Subreddit                                               Post  \\\n",
       "3   r/AskReddit  As many of you know today is day that many of ...   \n",
       "21  r/AskReddit  We have lost one of the greatest minds in hist...   \n",
       "34  r/AskReddit  With the news today of the passing of the amaz...   \n",
       "48  r/AskReddit  As the gap of the political divide in our worl...   \n",
       "55  r/AskReddit    Update 3 19PM EST    Updated links below    ...   \n",
       "\n",
       "                                           Post_Clean  \n",
       "3   As many know today day many us dreaded Stan Le...  \n",
       "21  We lost one greatest minds history today Profe...  \n",
       "34  With news today passing amazing Anthony Bourda...  \n",
       "48  As gap political divide world grows deeper wou...  \n",
       "55  Update 3 19PM EST Updated links Update 2 03PM ...  "
      ]
     },
     "execution_count": 71,
     "metadata": {},
     "output_type": "execute_result"
    }
   ],
   "source": [
    "subreddit_df.head()"
   ]
  },
  {
   "cell_type": "code",
   "execution_count": 69,
   "metadata": {
    "scrolled": true
   },
   "outputs": [],
   "source": [
    "# from tqdm import tqdm \n",
    "# tqdm.pandas()"
   ]
  },
  {
   "cell_type": "code",
   "execution_count": 18,
   "metadata": {},
   "outputs": [],
   "source": [
    "# subreddit_df['Post'] = subreddit_df['Post'].progress_apply(get_lemmas)"
   ]
  },
  {
   "cell_type": "code",
   "execution_count": 72,
   "metadata": {
    "scrolled": false
   },
   "outputs": [
    {
     "data": {
      "text/html": [
       "<div>\n",
       "<style scoped>\n",
       "    .dataframe tbody tr th:only-of-type {\n",
       "        vertical-align: middle;\n",
       "    }\n",
       "\n",
       "    .dataframe tbody tr th {\n",
       "        vertical-align: top;\n",
       "    }\n",
       "\n",
       "    .dataframe thead th {\n",
       "        text-align: right;\n",
       "    }\n",
       "</style>\n",
       "<table border=\"1\" class=\"dataframe\">\n",
       "  <thead>\n",
       "    <tr style=\"text-align: right;\">\n",
       "      <th></th>\n",
       "      <th>Subreddit</th>\n",
       "      <th>Post</th>\n",
       "      <th>Post_Clean</th>\n",
       "    </tr>\n",
       "  </thead>\n",
       "  <tbody>\n",
       "    <tr>\n",
       "      <th>0</th>\n",
       "      <td>r/AskReddit</td>\n",
       "      <td>As many of you know today is day that many of ...</td>\n",
       "      <td>As many know today day many us dreaded Stan Le...</td>\n",
       "    </tr>\n",
       "    <tr>\n",
       "      <th>1</th>\n",
       "      <td>r/AskReddit</td>\n",
       "      <td>We have lost one of the greatest minds in hist...</td>\n",
       "      <td>We lost one greatest minds history today Profe...</td>\n",
       "    </tr>\n",
       "    <tr>\n",
       "      <th>2</th>\n",
       "      <td>r/AskReddit</td>\n",
       "      <td>With the news today of the passing of the amaz...</td>\n",
       "      <td>With news today passing amazing Anthony Bourda...</td>\n",
       "    </tr>\n",
       "    <tr>\n",
       "      <th>3</th>\n",
       "      <td>r/AskReddit</td>\n",
       "      <td>As the gap of the political divide in our worl...</td>\n",
       "      <td>As gap political divide world grows deeper wou...</td>\n",
       "    </tr>\n",
       "    <tr>\n",
       "      <th>4</th>\n",
       "      <td>r/AskReddit</td>\n",
       "      <td>Update 3 19PM EST    Updated links below    ...</td>\n",
       "      <td>Update 3 19PM EST Updated links Update 2 03PM ...</td>\n",
       "    </tr>\n",
       "    <tr>\n",
       "      <th>...</th>\n",
       "      <td>...</td>\n",
       "      <td>...</td>\n",
       "      <td>...</td>\n",
       "    </tr>\n",
       "    <tr>\n",
       "      <th>14167</th>\n",
       "      <td>r/pokemongo</td>\n",
       "      <td>UPDATE 2  The name of the Gym has been change...</td>\n",
       "      <td>UPDATE 2 The name Gym changed remove Strongbow...</td>\n",
       "    </tr>\n",
       "    <tr>\n",
       "      <th>14168</th>\n",
       "      <td>r/pokemongo</td>\n",
       "      <td>A Note From The Developers  http   pokemong...</td>\n",
       "      <td>A Note From The Developers http pokemongolive ...</td>\n",
       "    </tr>\n",
       "    <tr>\n",
       "      <th>14169</th>\n",
       "      <td>r/pokemongo</td>\n",
       "      <td>It seems to me like a really obvious and easy ...</td>\n",
       "      <td>It seems like really obvious easy QOL addition...</td>\n",
       "    </tr>\n",
       "    <tr>\n",
       "      <th>14170</th>\n",
       "      <td>r/pokemongo</td>\n",
       "      <td>The servers are slowly getting better  Hopeful...</td>\n",
       "      <td>The servers slowly getting better Hopefully ne...</td>\n",
       "    </tr>\n",
       "    <tr>\n",
       "      <th>14171</th>\n",
       "      <td>r/pokemongo</td>\n",
       "      <td>Not anything outrageous  Say a basic pokemon g...</td>\n",
       "      <td>Not anything outrageous Say basic pokemon give...</td>\n",
       "    </tr>\n",
       "  </tbody>\n",
       "</table>\n",
       "<p>14172 rows × 3 columns</p>\n",
       "</div>"
      ],
      "text/plain": [
       "         Subreddit                                               Post  \\\n",
       "0      r/AskReddit  As many of you know today is day that many of ...   \n",
       "1      r/AskReddit  We have lost one of the greatest minds in hist...   \n",
       "2      r/AskReddit  With the news today of the passing of the amaz...   \n",
       "3      r/AskReddit  As the gap of the political divide in our worl...   \n",
       "4      r/AskReddit    Update 3 19PM EST    Updated links below    ...   \n",
       "...            ...                                                ...   \n",
       "14167  r/pokemongo   UPDATE 2  The name of the Gym has been change...   \n",
       "14168  r/pokemongo     A Note From The Developers  http   pokemong...   \n",
       "14169  r/pokemongo  It seems to me like a really obvious and easy ...   \n",
       "14170  r/pokemongo  The servers are slowly getting better  Hopeful...   \n",
       "14171  r/pokemongo  Not anything outrageous  Say a basic pokemon g...   \n",
       "\n",
       "                                              Post_Clean  \n",
       "0      As many know today day many us dreaded Stan Le...  \n",
       "1      We lost one greatest minds history today Profe...  \n",
       "2      With news today passing amazing Anthony Bourda...  \n",
       "3      As gap political divide world grows deeper wou...  \n",
       "4      Update 3 19PM EST Updated links Update 2 03PM ...  \n",
       "...                                                  ...  \n",
       "14167  UPDATE 2 The name Gym changed remove Strongbow...  \n",
       "14168  A Note From The Developers http pokemongolive ...  \n",
       "14169  It seems like really obvious easy QOL addition...  \n",
       "14170  The servers slowly getting better Hopefully ne...  \n",
       "14171  Not anything outrageous Say basic pokemon give...  \n",
       "\n",
       "[14172 rows x 3 columns]"
      ]
     },
     "execution_count": 72,
     "metadata": {},
     "output_type": "execute_result"
    }
   ],
   "source": [
    "subreddit_df.reset_index(drop=True)"
   ]
  },
  {
   "cell_type": "code",
   "execution_count": 73,
   "metadata": {},
   "outputs": [
    {
     "data": {
      "text/plain": [
       "((11337, 3), (2835, 3))"
      ]
     },
     "execution_count": 73,
     "metadata": {},
     "output_type": "execute_result"
    }
   ],
   "source": [
    "from sklearn.model_selection import train_test_split\n",
    "\n",
    "train, test = train_test_split(subreddit_df, test_size=0.20, random_state=42)\n",
    "\n",
    "train.shape, test.shape"
   ]
  },
  {
   "cell_type": "code",
   "execution_count": 75,
   "metadata": {},
   "outputs": [
    {
     "data": {
      "text/plain": [
       "((11337,), (11337,), (2835,), (2835,))"
      ]
     },
     "execution_count": 75,
     "metadata": {},
     "output_type": "execute_result"
    }
   ],
   "source": [
    "target = 'Subreddit'\n",
    "features = 'Post'\n",
    "X_train = train[features]\n",
    "y_train = train[target]\n",
    "X_test = test[features]\n",
    "y_test = test[target]\n",
    "\n",
    "X_train.shape, y_train.shape, X_test.shape, y_test.shape"
   ]
  },
  {
   "cell_type": "code",
   "execution_count": 76,
   "metadata": {},
   "outputs": [],
   "source": [
    "def tokenize(document):\n",
    "    \n",
    "    doc = nlp(document)\n",
    "    \n",
    "    return [token.lemma_.strip() for token in doc if (token.is_stop != True) and (token.is_punct != True)]"
   ]
  },
  {
   "cell_type": "code",
   "execution_count": 80,
   "metadata": {},
   "outputs": [
    {
     "name": "stdout",
     "output_type": "stream",
     "text": [
      "Pipeline(memory=None,\n",
      "         steps=[('lsi',\n",
      "                 Pipeline(memory=None,\n",
      "                          steps=[('vect',\n",
      "                                  TfidfVectorizer(analyzer='word', binary=False,\n",
      "                                                  decode_error='strict',\n",
      "                                                  dtype=<class 'numpy.float64'>,\n",
      "                                                  encoding='utf-8',\n",
      "                                                  input='content',\n",
      "                                                  lowercase=True, max_df=1.0,\n",
      "                                                  max_features=None, min_df=1,\n",
      "                                                  ngram_range=(1, 2), norm='l2',\n",
      "                                                  preprocessor=None,\n",
      "                                                  smooth_idf=True,\n",
      "                                                  stop_words='english',\n",
      "                                                  strip_accents=...\n",
      "                 RandomForestClassifier(bootstrap=True, ccp_alpha=0.0,\n",
      "                                        class_weight=None, criterion='gini',\n",
      "                                        max_depth=None, max_features='auto',\n",
      "                                        max_leaf_nodes=None, max_samples=None,\n",
      "                                        min_impurity_decrease=0.0,\n",
      "                                        min_impurity_split=None,\n",
      "                                        min_samples_leaf=1, min_samples_split=2,\n",
      "                                        min_weight_fraction_leaf=0.0,\n",
      "                                        n_estimators=100, n_jobs=None,\n",
      "                                        oob_score=False, random_state=None,\n",
      "                                        verbose=0, warm_start=False))],\n",
      "         verbose=False)\n"
     ]
    }
   ],
   "source": [
    "from sklearn.pipeline import Pipeline\n",
    "from sklearn.ensemble import RandomForestClassifier\n",
    "from sklearn.model_selection import RandomizedSearchCV, GridSearchCV\n",
    "from sklearn.feature_extraction.text import TfidfVectorizer\n",
    "from sklearn.svm import LinearSVC\n",
    "from sklearn.decomposition import TruncatedSVD\n",
    "from random import randint\n",
    "import spacy\n",
    "\n",
    "\n",
    "vect = TfidfVectorizer(stop_words='english', ngram_range=(1,2), tokenizer=tokenize)\n",
    "svd = TruncatedSVD(n_components=2, # svd = singular value decomposition \n",
    "                   algorithm='randomized',\n",
    "                   n_iter=5)\n",
    "\n",
    "clf = RandomForestClassifier()\n",
    "# LSI\n",
    "lsi = Pipeline([('vect', vect), ('svd', svd)])\n",
    "\n",
    "# Pipe\n",
    "\n",
    "pipe = Pipeline([('lsi', lsi), ('clf', clf)])\n",
    "print(pipe)\n",
    "\n",
    "\n",
    "clf1 = RandomForestClassifier(n_estimators =100, n_jobs=-1, random_state=42)"
   ]
  },
  {
   "cell_type": "code",
   "execution_count": 78,
   "metadata": {},
   "outputs": [],
   "source": [
    "import scipy \n",
    "\n",
    "parameters = {\n",
    "    'lsi__svd__n_components': [10,100],\n",
    "    'lsi__vect__min_df': [0.01, 0.05],\n",
    "    'lsi__vect__max_features': [100, 1000], # has to be an integer\n",
    "    'lsi__vect__max_df': [.9, .95, 1.0],\n",
    "    'clf__n_estimators': [5,10,20],\n",
    "    'clf__max_depth':[10, 100]\n",
    "}\n",
    "\n"
   ]
  },
  {
   "cell_type": "code",
   "execution_count": 82,
   "metadata": {
    "scrolled": false
   },
   "outputs": [],
   "source": [
    "# rand_search = RandomizedSearchCV(pipe, parameters, n_iter=10, cv=5, n_jobs=4, verbose=1)\n",
    "# rand_search.fit(X_train, y_train)"
   ]
  },
  {
   "cell_type": "code",
   "execution_count": 83,
   "metadata": {},
   "outputs": [],
   "source": [
    "# import scipy \n",
    "\n",
    "# parameters = {\n",
    "#     'lsi__svd__n_components': scipy.stats.randint(5, 100),\n",
    "#     'lsi__vect__max_df': scipy.stats.uniform(0.8, 0.99),\n",
    "#     'lsi__vect__min_df': scipy.stats.uniform(0.01, 0.05),\n",
    "#     'lsi__vect__max_features': scipy.stats.randint(100, 1000), # has to be an integer\n",
    "#     'clf__n_estimators': scipy.stats.randint(10, 100),\n",
    "#     'clf__max_depth': scipy.stats.randint(10, 100)\n",
    "# }"
   ]
  },
  {
   "cell_type": "code",
   "execution_count": 50,
   "metadata": {},
   "outputs": [
    {
     "name": "stdout",
     "output_type": "stream",
     "text": [
      "Fitting 5 folds for each of 144 candidates, totalling 720 fits\n"
     ]
    },
    {
     "name": "stderr",
     "output_type": "stream",
     "text": [
      "c:\\users\\khisl\\anaconda3\\envs\\post-here\\lib\\site-packages\\sklearn\\model_selection\\_split.py:667: UserWarning: The least populated class in y has only 1 members, which is less than n_splits=5.\n",
      "  % (min_groups, self.n_splits)), UserWarning)\n",
      "[Parallel(n_jobs=4)]: Using backend LokyBackend with 4 concurrent workers.\n",
      "[Parallel(n_jobs=4)]: Done  42 tasks      | elapsed:  2.7min\n",
      "[Parallel(n_jobs=4)]: Done 192 tasks      | elapsed: 12.4min\n",
      "[Parallel(n_jobs=4)]: Done 442 tasks      | elapsed: 27.1min\n",
      "[Parallel(n_jobs=4)]: Done 720 out of 720 | elapsed: 42.9min finished\n"
     ]
    },
    {
     "data": {
      "text/plain": [
       "GridSearchCV(cv=5, error_score=nan,\n",
       "             estimator=Pipeline(memory=None,\n",
       "                                steps=[('lsi',\n",
       "                                        Pipeline(memory=None,\n",
       "                                                 steps=[('vect',\n",
       "                                                         TfidfVectorizer(analyzer='word',\n",
       "                                                                         binary=False,\n",
       "                                                                         decode_error='strict',\n",
       "                                                                         dtype=<class 'numpy.float64'>,\n",
       "                                                                         encoding='utf-8',\n",
       "                                                                         input='content',\n",
       "                                                                         lowercase=True,\n",
       "                                                                         max_df=1.0,\n",
       "                                                                         max_features=None,\n",
       "                                                                         min_df=1,\n",
       "                                                                         ngram_range=(1,\n",
       "                                                                                      2),\n",
       "                                                                         norm='l2',\n",
       "                                                                         preprocessor=None,\n",
       "                                                                         smooth_...\n",
       "                                                               warm_start=False))],\n",
       "                                verbose=False),\n",
       "             iid='deprecated', n_jobs=4,\n",
       "             param_grid={'clf__max_depth': [10, 100],\n",
       "                         'clf__n_estimators': [5, 10, 20],\n",
       "                         'lsi__svd__n_components': [10, 100],\n",
       "                         'lsi__vect__max_df': [0.9, 0.95, 1.0],\n",
       "                         'lsi__vect__max_features': [100, 1000],\n",
       "                         'lsi__vect__min_df': [0.01, 0.05]},\n",
       "             pre_dispatch='2*n_jobs', refit=True, return_train_score=False,\n",
       "             scoring=None, verbose=1)"
      ]
     },
     "execution_count": 50,
     "metadata": {},
     "output_type": "execute_result"
    }
   ],
   "source": [
    "grid_search = GridSearchCV(pipe, parameters, cv=5, n_jobs=4, verbose=1)\n",
    "grid_search.fit(X_train, y_train)"
   ]
  },
  {
   "cell_type": "code",
   "execution_count": 51,
   "metadata": {},
   "outputs": [
    {
     "data": {
      "text/plain": [
       "0.5414119772302393"
      ]
     },
     "execution_count": 51,
     "metadata": {},
     "output_type": "execute_result"
    }
   ],
   "source": [
    "grid_search.best_score_"
   ]
  },
  {
   "cell_type": "code",
   "execution_count": 53,
   "metadata": {},
   "outputs": [],
   "source": [
    "pred = grid_search.predict(X_test)"
   ]
  },
  {
   "cell_type": "code",
   "execution_count": 54,
   "metadata": {},
   "outputs": [],
   "source": [
    "# Example\n",
    "reddit_post =[ \"\"\"Hi, I lost my dog about 3 months ago and straight away started doing research \n",
    "            on rabbits to distract myself. I started asking my parents to get me a rabbit and \n",
    "            my mum found a rabbit and we went to pick him up. I still miss my dog so much and \n",
    "            I’m crying almost every night. I started looking into rehoming him but I don’t want \n",
    "            to get rid of him because I know I’ll regret it. He is so much work and even though \n",
    "            I knew how much work they were I still wanted one. \"\"\" ]"
   ]
  },
  {
   "cell_type": "code",
   "execution_count": 56,
   "metadata": {},
   "outputs": [
    {
     "data": {
      "text/plain": [
       "array(['r/relationship_advice'], dtype=object)"
      ]
     },
     "execution_count": 56,
     "metadata": {},
     "output_type": "execute_result"
    }
   ],
   "source": [
    "y_pred = grid_search.predict(reddit_post)\n",
    "y_pred "
   ]
  },
  {
   "cell_type": "code",
   "execution_count": 103,
   "metadata": {},
   "outputs": [],
   "source": [
    "post1 = [\"\"\"my mom and I love each other\"\"\"]"
   ]
  },
  {
   "cell_type": "code",
   "execution_count": 104,
   "metadata": {},
   "outputs": [
    {
     "data": {
      "text/plain": [
       "array(['r/Jokes'], dtype=object)"
      ]
     },
     "execution_count": 104,
     "metadata": {},
     "output_type": "execute_result"
    }
   ],
   "source": [
    "y_pred = grid_search.predict(post1)\n",
    "y_pred "
   ]
  },
  {
   "cell_type": "code",
   "execution_count": null,
   "metadata": {},
   "outputs": [],
   "source": [
    "from sklearn.metrics import accuracy_score\n",
    "\n",
    "def return_one(text):\n",
    "    prediction = rand_search.predict(text)\n",
    "    score = predict_proba(text)\n",
    "    preds = preds.sort_values(ascending=False)\n",
    "  return preds[:2]"
   ]
  },
  {
   "cell_type": "code",
   "execution_count": null,
   "metadata": {},
   "outputs": [],
   "source": [
    "def post_predictions(post, answers=2):\n",
    "  \"\"\" takes a post and returns the top categories it fits in \"\"\"\n",
    "\n",
    "  # get the predicted probabilities for each class\n",
    "  preds = pd.Series(nb.predict_proba(post)[0])\n",
    "\n",
    "  # save each class to the Series index\n",
    "  preds.index = nb.classes_\n",
    "\n",
    "  # sort to get the most likely classes\n",
    "  preds = preds.sort_values(ascending=False)\n",
    "\n",
    "  # return the top num_answers results in dict format\n",
    "  return preds[:2]"
   ]
  },
  {
   "cell_type": "code",
   "execution_count": null,
   "metadata": {},
   "outputs": [],
   "source": [
    "import pickle\n",
    "from pickle import dump\n",
    "\n",
    "model = grid_search\n",
    "\n",
    "filename = 'post_here_model.pkl'\n",
    "\n",
    "pickle.dump(model, open(filename, 'wb'))"
   ]
  }
 ],
 "metadata": {
  "kernelspec": {
   "display_name": "Python 3",
   "language": "python",
   "name": "python3"
  },
  "language_info": {
   "codemirror_mode": {
    "name": "ipython",
    "version": 3
   },
   "file_extension": ".py",
   "mimetype": "text/x-python",
   "name": "python",
   "nbconvert_exporter": "python",
   "pygments_lexer": "ipython3",
   "version": "3.7.0"
  }
 },
 "nbformat": 4,
 "nbformat_minor": 4
}
